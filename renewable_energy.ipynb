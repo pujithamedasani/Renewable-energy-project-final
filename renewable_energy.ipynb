{
 "cells": [
  {
   "cell_type": "code",
   "execution_count": null,
   "id": "64cad14e",
   "metadata": {},
   "outputs": [
    {
     "name": "stdout",
     "output_type": "stream",
     "text": [
      "         Date       Wind      Solar       Hydro     Energy\n",
      "0  2020-01-01  49.963210  58.871320   46.661964  39.478365\n",
      "1  2020-01-02  96.057145  47.526746   78.771085  89.495526\n",
      "2  2020-01-03  78.559515  31.666933  108.565125  63.545000\n",
      "3  2020-01-04  67.892679  66.965651   95.900240  64.989089\n",
      "4  2020-01-05  32.481491  57.931182  102.590503  59.251053\n",
      "Linear Regression R2: 0.8730249404872472 RMSE: 5.334007731968931\n",
      "Random Forest R2: 0.8210700623082069 RMSE: 6.331927501861734\n"
     ]
    },
    {
     "name": "stderr",
     "output_type": "stream",
     "text": [
      "D:\\Lib\\site-packages\\keras\\src\\layers\\rnn\\rnn.py:199: UserWarning: Do not pass an `input_shape`/`input_dim` argument to a layer. When using Sequential models, prefer using an `Input(shape)` object as the first layer in the model instead.\n",
      "  super().__init__(**kwargs)\n"
     ]
    },
    {
     "name": "stdout",
     "output_type": "stream",
     "text": [
      "Epoch 1/10\n",
      "\u001b[1m20/20\u001b[0m \u001b[32m━━━━━━━━━━━━━━━━━━━━\u001b[0m\u001b[37m\u001b[0m \u001b[1m2s\u001b[0m 18ms/step - loss: 3646.8594 - val_loss: 3438.4546\n",
      "Epoch 2/10\n",
      "\u001b[1m20/20\u001b[0m \u001b[32m━━━━━━━━━━━━━━━━━━━━\u001b[0m\u001b[37m\u001b[0m \u001b[1m0s\u001b[0m 8ms/step - loss: 3388.9800 - val_loss: 2207.8491\n",
      "Epoch 3/10\n",
      "\u001b[1m20/20\u001b[0m \u001b[32m━━━━━━━━━━━━━━━━━━━━\u001b[0m\u001b[37m\u001b[0m \u001b[1m0s\u001b[0m 10ms/step - loss: 983.2682 - val_loss: 721.7872\n",
      "Epoch 4/10\n",
      "\u001b[1m20/20\u001b[0m \u001b[32m━━━━━━━━━━━━━━━━━━━━\u001b[0m\u001b[37m\u001b[0m \u001b[1m0s\u001b[0m 9ms/step - loss: 663.4990 - val_loss: 568.8179\n",
      "Epoch 5/10\n",
      "\u001b[1m20/20\u001b[0m \u001b[32m━━━━━━━━━━━━━━━━━━━━\u001b[0m\u001b[37m\u001b[0m \u001b[1m0s\u001b[0m 9ms/step - loss: 557.0576 - val_loss: 632.3401\n",
      "Epoch 6/10\n",
      "\u001b[1m20/20\u001b[0m \u001b[32m━━━━━━━━━━━━━━━━━━━━\u001b[0m\u001b[37m\u001b[0m \u001b[1m0s\u001b[0m 11ms/step - loss: 511.3383 - val_loss: 510.7228\n",
      "Epoch 7/10\n",
      "\u001b[1m20/20\u001b[0m \u001b[32m━━━━━━━━━━━━━━━━━━━━\u001b[0m\u001b[37m\u001b[0m \u001b[1m0s\u001b[0m 10ms/step - loss: 463.8595 - val_loss: 496.9765\n",
      "Epoch 8/10\n",
      "\u001b[1m20/20\u001b[0m \u001b[32m━━━━━━━━━━━━━━━━━━━━\u001b[0m\u001b[37m\u001b[0m \u001b[1m0s\u001b[0m 10ms/step - loss: 443.0268 - val_loss: 531.6234\n",
      "Epoch 9/10\n",
      "\u001b[1m20/20\u001b[0m \u001b[32m━━━━━━━━━━━━━━━━━━━━\u001b[0m\u001b[37m\u001b[0m \u001b[1m0s\u001b[0m 9ms/step - loss: 431.4581 - val_loss: 490.8225\n",
      "Epoch 10/10\n",
      "\u001b[1m20/20\u001b[0m \u001b[32m━━━━━━━━━━━━━━━━━━━━\u001b[0m\u001b[37m\u001b[0m \u001b[1m0s\u001b[0m 11ms/step - loss: 418.1036 - val_loss: 451.7335\n",
      "\u001b[1m4/4\u001b[0m \u001b[32m━━━━━━━━━━━━━━━━━━━━\u001b[0m\u001b[37m\u001b[0m \u001b[1m1s\u001b[0m 119ms/step\n",
      "LSTM R2: -0.4558630382620874 RMSE: 20.435772833298305\n"
     ]
    },
    {
     "data": {
      "text/plain": [
       "['scaler.pkl']"
      ]
     },
     "execution_count": 2,
     "metadata": {},
     "output_type": "execute_result"
    }
   ],
   "source": [
    "import pandas as pd\n",
    "import numpy as np\n",
    "import matplotlib.pyplot as plt\n",
    "import seaborn as sns\n",
    "from sklearn.model_selection import train_test_split\n",
    "from sklearn.preprocessing import StandardScaler\n",
    "from sklearn.metrics import mean_squared_error, r2_score\n",
    "from sklearn.linear_model import LinearRegression\n",
    "from sklearn.ensemble import RandomForestRegressor\n",
    "import tensorflow as tf\n",
    "from tensorflow.keras.models import Sequential\n",
    "from tensorflow.keras.layers import LSTM, Dense\n",
    "\n",
    "# 1. Load Dataset\n",
    "data = pd.read_csv(\"renewable_energy.csv\") \n",
    "print(data.head())\n",
    "\n",
    "# 2. Preprocessing\n",
    "data = data.dropna()\n",
    "\n",
    "\n",
    "data[\"Date\"] = pd.to_datetime(data[\"Date\"])\n",
    "data = data.set_index(\"Date\")\n",
    "\n",
    "X = data[[\"Wind\", \"Solar\", \"Hydro\"]]\n",
    "y = data[\"Energy\"]\n",
    "\n",
    "scaler = StandardScaler()\n",
    "X_scaled = scaler.fit_transform(X)\n",
    "\n",
    "X_train, X_test, y_train, y_test = train_test_split(X_scaled, y, test_size=0.2, random_state=42)\n",
    "\n",
    "# 3. ML Models\n",
    "lin_reg = LinearRegression()\n",
    "lin_reg.fit(X_train, y_train)\n",
    "\n",
    "rf_reg = RandomForestRegressor(n_estimators=100, random_state=42)\n",
    "rf_reg.fit(X_train, y_train)\n",
    "\n",
    "# 4. Evaluation\n",
    "models = {\"Linear Regression\": lin_reg, \"Random Forest\": rf_reg}\n",
    "for name, model in models.items():\n",
    "    y_pred = model.predict(X_test)\n",
    "    print(name, \"R2:\", r2_score(y_test, y_pred), \"RMSE:\", np.sqrt(mean_squared_error(y_test, y_pred)))\n",
    "\n",
    "# 5. LSTM for Time Series\n",
    "X_lstm = np.array(X_scaled)\n",
    "y_lstm = np.array(y)\n",
    "\n",
    "sequence_length = 10\n",
    "X_seq, y_seq = [], []\n",
    "for i in range(len(X_lstm)-sequence_length):\n",
    "    X_seq.append(X_lstm[i:i+sequence_length])\n",
    "    y_seq.append(y_lstm[i+sequence_length])\n",
    "X_seq, y_seq = np.array(X_seq), np.array(y_seq)\n",
    "\n",
    "X_train_seq, X_test_seq = X_seq[:int(0.8*len(X_seq))], X_seq[int(0.8*len(X_seq)):]\n",
    "y_train_seq, y_test_seq = y_seq[:int(0.8*len(y_seq))], y_seq[int(0.8*len(y_seq)):] \n",
    "\n",
    "model = Sequential([\n",
    "    LSTM(50, activation='relu', input_shape=(sequence_length, X_seq.shape[2])),\n",
    "    Dense(1)\n",
    "])\n",
    "\n",
    "model.compile(optimizer='adam', loss='mse')\n",
    "model.fit(X_train_seq, y_train_seq, epochs=10, batch_size=16, validation_split=0.2)\n",
    "\n",
    "lstm_pred = model.predict(X_test_seq)\n",
    "print(\"LSTM R2:\", r2_score(y_test_seq, lstm_pred), \"RMSE:\", np.sqrt(mean_squared_error(y_test_seq, lstm_pred)))\n",
    "\n",
    "import joblib\n",
    "\n",
    "joblib.dump(rf_reg, \"energy_model.pkl\")\n",
    "joblib.dump(scaler, \"scaler.pkl\")\n"
   ]
  }
 ],
 "metadata": {
  "kernelspec": {
   "display_name": "renewable_env",
   "language": "python",
   "name": "renewable_env"
  },
  "language_info": {
   "codemirror_mode": {
    "name": "ipython",
    "version": 3
   },
   "file_extension": ".py",
   "mimetype": "text/x-python",
   "name": "python",
   "nbconvert_exporter": "python",
   "pygments_lexer": "ipython3",
   "version": "3.13.5"
  }
 },
 "nbformat": 4,
 "nbformat_minor": 5
}
